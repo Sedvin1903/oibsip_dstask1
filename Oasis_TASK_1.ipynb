{
  "nbformat": 4,
  "nbformat_minor": 0,
  "metadata": {
    "colab": {
      "provenance": [],
      "authorship_tag": "ABX9TyNmRSRUSslQXTxdIksgm3ns",
      "include_colab_link": true
    },
    "kernelspec": {
      "name": "python3",
      "display_name": "Python 3"
    },
    "language_info": {
      "name": "python"
    }
  },
  "cells": [
    {
      "cell_type": "markdown",
      "metadata": {
        "id": "view-in-github",
        "colab_type": "text"
      },
      "source": [
        "<a href=\"https://colab.research.google.com/github/Sedvin1903/oibsip_dstask1/blob/main/Oasis_TASK_1.ipynb\" target=\"_parent\"><img src=\"https://colab.research.google.com/assets/colab-badge.svg\" alt=\"Open In Colab\"/></a>"
      ]
    },
    {
      "cell_type": "code",
      "source": [
        "import pandas as pd\n",
        "import matplotlib.pyplot as plt\n",
        "from sklearn.model_selection import train_test_split\n",
        "from sklearn.neighbors import KNeighborsClassifier\n",
        "from sklearn.tree import DecisionTreeClassifier\n",
        "from sklearn.naive_bayes import GaussianNB\n",
        "from sklearn.ensemble import RandomForestClassifier, GradientBoostingClassifier\n",
        "from sklearn.metrics import accuracy_score\n",
        "from tabulate import tabulate"
      ],
      "metadata": {
        "id": "PyovVnaxICkF"
      },
      "execution_count": null,
      "outputs": []
    },
    {
      "cell_type": "code",
      "source": [
        "'''    Step 1: Data Loading and Exploration     '''"
      ],
      "metadata": {
        "id": "docaSWo9IPw6"
      },
      "execution_count": null,
      "outputs": []
    },
    {
      "cell_type": "code",
      "source": [
        "#  Load the dataset  #\n",
        "data = pd.read_csv('Iris.csv')"
      ],
      "metadata": {
        "id": "JWDHLgq6Id7_"
      },
      "execution_count": null,
      "outputs": []
    },
    {
      "cell_type": "code",
      "source": [
        "#  Explore the dataset  #\n",
        "\n",
        "print(\"Dataset Preview:\")\n",
        "print(tabulate(data.head(), headers='keys', tablefmt='fancy_grid')) # Display the first few rows of the dataset\n",
        "print(\"\\nStatistical Summary:\")\n",
        "print(tabulate(data.describe(), headers='keys', tablefmt='fancy_grid')) # Statistical summary of the dataset\n",
        "print(\"\\nDataset Information:\")\n",
        "print(data.info()) # Information about the dataset, including data types"
      ],
      "metadata": {
        "colab": {
          "base_uri": "https://localhost:8080/"
        },
        "id": "30Z7bYSVIvmm",
        "outputId": "4488264c-9dc1-4596-9121-804a4cc68913"
      },
      "execution_count": null,
      "outputs": [
        {
          "output_type": "stream",
          "name": "stdout",
          "text": [
            "Dataset Preview:\n",
            "╒════╤══════╤═════════════════╤════════════════╤═════════════════╤════════════════╤═════════════╕\n",
            "│    │   Id │   SepalLengthCm │   SepalWidthCm │   PetalLengthCm │   PetalWidthCm │ Species     │\n",
            "╞════╪══════╪═════════════════╪════════════════╪═════════════════╪════════════════╪═════════════╡\n",
            "│  0 │    1 │             5.1 │            3.5 │             1.4 │            0.2 │ Iris-setosa │\n",
            "├────┼──────┼─────────────────┼────────────────┼─────────────────┼────────────────┼─────────────┤\n",
            "│  1 │    2 │             4.9 │            3   │             1.4 │            0.2 │ Iris-setosa │\n",
            "├────┼──────┼─────────────────┼────────────────┼─────────────────┼────────────────┼─────────────┤\n",
            "│  2 │    3 │             4.7 │            3.2 │             1.3 │            0.2 │ Iris-setosa │\n",
            "├────┼──────┼─────────────────┼────────────────┼─────────────────┼────────────────┼─────────────┤\n",
            "│  3 │    4 │             4.6 │            3.1 │             1.5 │            0.2 │ Iris-setosa │\n",
            "├────┼──────┼─────────────────┼────────────────┼─────────────────┼────────────────┼─────────────┤\n",
            "│  4 │    5 │             5   │            3.6 │             1.4 │            0.2 │ Iris-setosa │\n",
            "╘════╧══════╧═════════════════╧════════════════╧═════════════════╧════════════════╧═════════════╛\n",
            "\n",
            "Statistical Summary:\n",
            "╒═══════╤══════════╤═════════════════╤════════════════╤═════════════════╤════════════════╕\n",
            "│       │       Id │   SepalLengthCm │   SepalWidthCm │   PetalLengthCm │   PetalWidthCm │\n",
            "╞═══════╪══════════╪═════════════════╪════════════════╪═════════════════╪════════════════╡\n",
            "│ count │ 150      │      150        │     150        │       150       │     150        │\n",
            "├───────┼──────────┼─────────────────┼────────────────┼─────────────────┼────────────────┤\n",
            "│ mean  │  75.5    │        5.84333  │       3.054    │         3.75867 │       1.19867  │\n",
            "├───────┼──────────┼─────────────────┼────────────────┼─────────────────┼────────────────┤\n",
            "│ std   │  43.4454 │        0.828066 │       0.433594 │         1.76442 │       0.763161 │\n",
            "├───────┼──────────┼─────────────────┼────────────────┼─────────────────┼────────────────┤\n",
            "│ min   │   1      │        4.3      │       2        │         1       │       0.1      │\n",
            "├───────┼──────────┼─────────────────┼────────────────┼─────────────────┼────────────────┤\n",
            "│ 25%   │  38.25   │        5.1      │       2.8      │         1.6     │       0.3      │\n",
            "├───────┼──────────┼─────────────────┼────────────────┼─────────────────┼────────────────┤\n",
            "│ 50%   │  75.5    │        5.8      │       3        │         4.35    │       1.3      │\n",
            "├───────┼──────────┼─────────────────┼────────────────┼─────────────────┼────────────────┤\n",
            "│ 75%   │ 112.75   │        6.4      │       3.3      │         5.1     │       1.8      │\n",
            "├───────┼──────────┼─────────────────┼────────────────┼─────────────────┼────────────────┤\n",
            "│ max   │ 150      │        7.9      │       4.4      │         6.9     │       2.5      │\n",
            "╘═══════╧══════════╧═════════════════╧════════════════╧═════════════════╧════════════════╛\n",
            "\n",
            "Dataset Information:\n",
            "<class 'pandas.core.frame.DataFrame'>\n",
            "RangeIndex: 150 entries, 0 to 149\n",
            "Data columns (total 6 columns):\n",
            " #   Column         Non-Null Count  Dtype  \n",
            "---  ------         --------------  -----  \n",
            " 0   Id             150 non-null    int64  \n",
            " 1   SepalLengthCm  150 non-null    float64\n",
            " 2   SepalWidthCm   150 non-null    float64\n",
            " 3   PetalLengthCm  150 non-null    float64\n",
            " 4   PetalWidthCm   150 non-null    float64\n",
            " 5   Species        150 non-null    object \n",
            "dtypes: float64(4), int64(1), object(1)\n",
            "memory usage: 7.2+ KB\n",
            "None\n"
          ]
        }
      ]
    },
    {
      "cell_type": "code",
      "source": [
        "'''   Step 2: Data Visualization    '''"
      ],
      "metadata": {
        "id": "uqawhscMI66L"
      },
      "execution_count": null,
      "outputs": []
    },
    {
      "cell_type": "code",
      "source": [
        "#  Visualize the relationships between different features using scatter plots  #\n",
        "\n",
        "plt.scatter(data[data['Species'] == 'Iris-setosa']['PetalLengthCm'], data[data['Species'] == 'Iris-setosa']['PetalWidthCm'],\n",
        "c='blue', label='Setosa')\n",
        "plt.scatter(data[data['Species'] == 'Iris-versicolor']['PetalLengthCm'], data[data['Species'] == 'Iris-versicolor']['PetalWidthCm'],\n",
        "c='green', label='Versicolor')\n",
        "plt.scatter(data[data['Species'] == 'Iris-virginica']['PetalLengthCm'], data[data['Species'] == 'Iris-virginica']['PetalWidthCm'],\n",
        "c='red', label='Virginica')\n",
        "plt.xlabel('Petal Length (cm)')\n",
        "plt.ylabel('Petal Width (cm)')\n",
        "plt.title('Iris Flower Classification')\n",
        "plt.legend()\n",
        "plt.show()"
      ],
      "metadata": {
        "colab": {
          "base_uri": "https://localhost:8080/",
          "height": 472
        },
        "id": "t_8t0OzjJDod",
        "outputId": "9e9f06f1-0ca1-4973-cef3-a728a73fb030"
      },
      "execution_count": null,
      "outputs": [
        {
          "output_type": "display_data",
          "data": {
            "text/plain": [
              "<Figure size 640x480 with 1 Axes>"
            ],
            "image/png": "[encoded data removed]"
          },
          "metadata": {}
        }
      ]
    },
    {
      "cell_type": "code",
      "source": [
        "'''Step 3: Model Training and Evaluation'''"
      ],
      "metadata": {
        "id": "xNSJ01UwJHW1"
      },
      "execution_count": null,
      "outputs": []
    },
    {
      "cell_type": "code",
      "source": [
        "#   Split the dataset into features (X) and target (y)  #\n",
        "X = data.drop(['Id', 'Species'], axis=1)\n",
        "y = data['Species']"
      ],
      "metadata": {
        "id": "NO481t6jJMFP"
      },
      "execution_count": null,
      "outputs": []
    },
    {
      "cell_type": "code",
      "source": [
        "#  Split the data into training and testing sets  #\n",
        "\n",
        "X_train, X_test, y_train, y_test = train_test_split(X, y, test_size=0.2, random_state=42)"
      ],
      "metadata": {
        "id": "0Dt5hnV2JW05"
      },
      "execution_count": null,
      "outputs": []
    },
    {
      "cell_type": "code",
      "source": [
        "#  Train and evaluate multiple models\n",
        "\n",
        "models = {\n",
        "'k-Nearest Neighbors': KNeighborsClassifier(),    #  Predict based on nearest neighboring data points.\n",
        "'Decision Tree': DecisionTreeClassifier(),        #  Make predictions using hierarchical tree-like structure.\n",
        "'Naive Bayes': GaussianNB(),                      # Classify based on probabilistic conditional independence.\n",
        "'Random Forest': RandomForestClassifier(),        # Ensemble of decision trees for better performance.\n",
        "'Gradient Boosting': GradientBoostingClassifier() # Combine weak models to create stronger model.\n",
        "}\n",
        "\n",
        "print(\"\\n----- Model Evaluation Results -----\")\n",
        "results = []\n",
        "\n",
        "for model_name, model in models.items():\n",
        "  # Train the model\n",
        "  model.fit(X_train, y_train)\n",
        "  # Make predictions on the test set\n",
        "  y_pred = model.predict(X_test)\n",
        "\n",
        "  # Calculate accuracy and print the result\n",
        "  accuracy = accuracy_score(y_test, y_pred)\n",
        "  results.append([model_name, accuracy])\n",
        "\n",
        "# Display model evaluation results\n",
        "headers = ['Model', 'Accuracy']\n",
        "print(tabulate(results, headers=headers, tablefmt='fancy_grid'))"
      ],
      "metadata": {
        "colab": {
          "base_uri": "https://localhost:8080/"
        },
        "id": "SDOU0UF5Jfb4",
        "outputId": "a9aed22b-45ea-46e7-e446-d65f3dedc88e"
      },
      "execution_count": null,
      "outputs": [
        {
          "output_type": "stream",
          "name": "stdout",
          "text": [
            "\n",
            "----- Model Evaluation Results -----\n",
            "╒═════════════════════╤════════════╕\n",
            "│ Model               │   Accuracy │\n",
            "╞═════════════════════╪════════════╡\n",
            "│ k-Nearest Neighbors │          1 │\n",
            "├─────────────────────┼────────────┤\n",
            "│ Decision Tree       │          1 │\n",
            "├─────────────────────┼────────────┤\n",
            "│ Naive Bayes         │          1 │\n",
            "├─────────────────────┼────────────┤\n",
            "│ Random Forest       │          1 │\n",
            "├─────────────────────┼────────────┤\n",
            "│ Gradient Boosting   │          1 │\n",
            "╘═════════════════════╧════════════╛\n"
          ]
        }
      ]
    },
    {
      "cell_type": "code",
      "source": [],
      "metadata": {
        "id": "FCuQ0gRwUn3T"
      },
      "execution_count": null,
      "outputs": []
    },
    {
      "cell_type": "code",
      "source": [],
      "metadata": {
        "id": "ILNkhA6yWxl6"
      },
      "execution_count": null,
      "outputs": []
    },
    {
      "cell_type": "code",
      "source": [],
      "metadata": {
        "id": "hXFdjOUTWxpI"
      },
      "execution_count": null,
      "outputs": []
    },
    {
      "cell_type": "code",
      "source": [
        "import pandas as pd\n",
        "import matplotlib.pyplot as plt\n",
        "from sklearn.model_selection import train_test_split\n",
        "from sklearn.linear_model import LogisticRegression\n",
        "from sklearn.tree import DecisionTreeClassifier\n",
        "from sklearn.ensemble import RandomForestClassifier\n",
        "from sklearn.metrics import accuracy_score\n",
        "\n",
        "# Step 1: Data Loading and Exploration\n",
        "# Load the dataset\n",
        "data = pd.read_csv('Iris.csv')\n",
        "\n",
        "# Explore the dataset\n",
        "print(data.head())  # Display the first few rows of the dataset\n",
        "print(data.describe())  # Statistical summary of the dataset\n",
        "print(data.info())  # Information about the dataset, including data types\n",
        "\n",
        "# Step 2: Data Visualization\n",
        "# Visualize the relationships between different features using scatter plots\n",
        "plt.scatter(data['SepalLengthCm'], data['SepalWidthCm'], c='blue', label='Setosa')\n",
        "plt.scatter(data['PetalLengthCm'], data['PetalWidthCm'], c='green', label='Versicolor')\n",
        "plt.scatter(data['PetalLengthCm'], data['PetalWidthCm'], c='red', label='Virginica')\n",
        "plt.xlabel('Petal Length (cm)')\n",
        "plt.ylabel('Petal Width (cm)')\n",
        "plt.title('Iris Flower Classification')\n",
        "plt.legend()\n",
        "plt.show()\n",
        "\n",
        "# Step 3: Model Training and Evaluation\n",
        "# Split the dataset into features (X) and target (y)\n",
        "X = data.drop(['Id', 'Species'], axis=1)\n",
        "y = data['Species']\n",
        "\n",
        "# Split the data into training and testing sets\n",
        "X_train, X_test, y_train, y_test = train_test_split(X, y, test_size=0.2, random_state=42)\n",
        "\n",
        "# Train and evaluate multiple models\n",
        "models = {\n",
        "    'Logistic Regression': LogisticRegression(),\n",
        "    'Decision Tree': DecisionTreeClassifier(),\n",
        "    'Random Forest': RandomForestClassifier()\n",
        "}\n",
        "\n",
        "for model_name, model in models.items():\n",
        "    # Train the model\n",
        "    model.fit(X_train, y_train)\n",
        "\n",
        "    # Make predictions on the test set\n",
        "    y_pred = model.predict(X_test)\n",
        "\n",
        "    # Calculate accuracy and print the result\n",
        "    accuracy = accuracy_score(y_test, y_pred)\n",
        "    print(f'{model_name} Accuracy: {accuracy * 100:.2f}%')\n"
      ],
      "metadata": {
        "colab": {
          "base_uri": "https://localhost:8080/",
          "height": 1000
        },
        "id": "NJ18R1zAG1wj",
        "outputId": "e2c13927-bfcb-4c9b-e410-e4d8363815e7"
      },
      "execution_count": null,
      "outputs": [
        {
          "output_type": "stream",
          "name": "stdout",
          "text": [
            "   Id  SepalLengthCm  SepalWidthCm  PetalLengthCm  PetalWidthCm      Species\n",
            "0   1            5.1           3.5            1.4           0.2  Iris-setosa\n",
            "1   2            4.9           3.0            1.4           0.2  Iris-setosa\n",
            "2   3            4.7           3.2            1.3           0.2  Iris-setosa\n",
            "3   4            4.6           3.1            1.5           0.2  Iris-setosa\n",
            "4   5            5.0           3.6            1.4           0.2  Iris-setosa\n",
            "               Id  SepalLengthCm  SepalWidthCm  PetalLengthCm  PetalWidthCm\n",
            "count  150.000000     150.000000    150.000000     150.000000    150.000000\n",
            "mean    75.500000       5.843333      3.054000       3.758667      1.198667\n",
            "std     43.445368       0.828066      0.433594       1.764420      0.763161\n",
            "min      1.000000       4.300000      2.000000       1.000000      0.100000\n",
            "25%     38.250000       5.100000      2.800000       1.600000      0.300000\n",
            "50%     75.500000       5.800000      3.000000       4.350000      1.300000\n",
            "75%    112.750000       6.400000      3.300000       5.100000      1.800000\n",
            "max    150.000000       7.900000      4.400000       6.900000      2.500000\n",
            "<class 'pandas.core.frame.DataFrame'>\n",
            "RangeIndex: 150 entries, 0 to 149\n",
            "Data columns (total 6 columns):\n",
            " #   Column         Non-Null Count  Dtype  \n",
            "---  ------         --------------  -----  \n",
            " 0   Id             150 non-null    int64  \n",
            " 1   SepalLengthCm  150 non-null    float64\n",
            " 2   SepalWidthCm   150 non-null    float64\n",
            " 3   PetalLengthCm  150 non-null    float64\n",
            " 4   PetalWidthCm   150 non-null    float64\n",
            " 5   Species        150 non-null    object \n",
            "dtypes: float64(4), int64(1), object(1)\n",
            "memory usage: 7.2+ KB\n",
            "None\n"
          ]
        },
        {
          "output_type": "display_data",
          "data": {
            "text/plain": [
              "<Figure size 640x480 with 1 Axes>"
            ],
            "image/png": "[encoded data removed]"
          },
          "metadata": {}
        },
        {
          "output_type": "stream",
          "name": "stdout",
          "text": [
            "Logistic Regression Accuracy: 100.00%\n",
            "Decision Tree Accuracy: 100.00%\n",
            "Random Forest Accuracy: 100.00%\n"
          ]
        }
      ]
    },
    {
      "cell_type": "code",
      "source": [
        "import pandas as pd\n",
        "from sklearn.model_selection import train_test_split\n",
        "from sklearn.ensemble import RandomForestClassifier\n",
        "from sklearn.metrics import accuracy_score\n",
        "\n",
        "# Load the dataset\n",
        "data = pd.read_csv('Iris.csv')\n",
        "\n",
        "# Separate features (X) and target variable (y)\n",
        "X = data.drop('Species', axis=1)\n",
        "y = data['Species']\n",
        "\n",
        "# Split the data into training and test sets\n",
        "X_train, X_test, y_train, y_test = train_test_split(X, y, test_size=0.2, random_state=42)\n",
        "\n",
        "# Train a Random Forest classifier\n",
        "model = RandomForestClassifier()\n",
        "model.fit(X_train, y_train)\n",
        "\n",
        "# Make predictions on the test set\n",
        "y_pred = model.predict(X_test)\n",
        "\n",
        "# Evaluate the model's accuracy\n",
        "accuracy = accuracy_score(y_test, y_pred)\n",
        "print(\"Accuracy:\", accuracy)\n"
      ],
      "metadata": {
        "colab": {
          "base_uri": "https://localhost:8080/"
        },
        "id": "fYSKK3XhVSN9",
        "outputId": "8800c7da-f981-448d-d68d-be1fab994d54"
      },
      "execution_count": null,
      "outputs": [
        {
          "output_type": "stream",
          "name": "stdout",
          "text": [
            "Accuracy: 1.0\n"
          ]
        }
      ]
    }
  ]
}